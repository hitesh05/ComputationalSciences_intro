{
 "cells": [
  {
   "cell_type": "code",
   "execution_count": 1,
   "metadata": {},
   "outputs": [],
   "source": [
    "import requests\n",
    "from bs4 import BeautifulSoup as bs\n",
    "import re\n",
    "import numpy as np\n",
    "import pandas as pd"
   ]
  },
  {
   "cell_type": "code",
   "execution_count": 2,
   "metadata": {},
   "outputs": [],
   "source": [
    "def soup_url(url):\n",
    "    html = requests.get(url)\n",
    "    soup = bs(html.content,'html5lib')\n",
    "    return soup"
   ]
  },
  {
   "cell_type": "code",
   "execution_count": 3,
   "metadata": {},
   "outputs": [],
   "source": [
    "def create_dist_dict(url):\n",
    "    soup = soup_url(url)\n",
    "    district = soup.findAll('h5')\n",
    "    print(district)\n",
    "    didict = {}\n",
    "    for item in district:\n",
    "        a = str(item)\n",
    "        district_link = a[a.find('href=\"')+6:a.find('\" style')]\n",
    "        district_link = district_link.replace('&amp;' , '&')\n",
    "        district_name = a[a.find(' \">')+3:a.find(' </a>')]\n",
    "        didict[district_name] = url + district_link\n",
    "    return didict"
   ]
  },
  {
   "cell_type": "code",
   "execution_count": 4,
   "metadata": {},
   "outputs": [
    {
     "name": "stdout",
     "output_type": "stream",
     "text": [
      "[<h5 class=\"title\"><a href=\"index.php?action=show_constituencies&amp;state_id=7\" style=\"text-decoration: none ;color:black \">ARARIA </a></h5>, <h5 class=\"title\"><a href=\"index.php?action=show_constituencies&amp;state_id=33\" style=\"text-decoration: none ;color:black \">ARWAL </a></h5>, <h5 class=\"title\"><a href=\"index.php?action=show_constituencies&amp;state_id=35\" style=\"text-decoration: none ;color:black \">AURANGABAD </a></h5>, <h5 class=\"title\"><a href=\"index.php?action=show_constituencies&amp;state_id=23\" style=\"text-decoration: none ;color:black \">BANKA </a></h5>, <h5 class=\"title\"><a href=\"index.php?action=show_constituencies&amp;state_id=20\" style=\"text-decoration: none ;color:black \">BEGUSARAI </a></h5>, <h5 class=\"title\"><a href=\"index.php?action=show_constituencies&amp;state_id=22\" style=\"text-decoration: none ;color:black \">BHAGALPUR </a></h5>, <h5 class=\"title\"><a href=\"index.php?action=show_constituencies&amp;state_id=29\" style=\"text-decoration: none ;color:black \">BHOJPUR </a></h5>, <h5 class=\"title\"><a href=\"index.php?action=show_constituencies&amp;state_id=30\" style=\"text-decoration: none ;color:black \">BUXAR </a></h5>, <h5 class=\"title\"><a href=\"index.php?action=show_constituencies&amp;state_id=13\" style=\"text-decoration: none ;color:black \">DARBHANGA </a></h5>, <h5 class=\"title\"><a href=\"index.php?action=show_constituencies&amp;state_id=36\" style=\"text-decoration: none ;color:black \">GAYA </a></h5>, <h5 class=\"title\"><a href=\"index.php?action=show_constituencies&amp;state_id=15\" style=\"text-decoration: none ;color:black \">GOPALGANJ </a></h5>, <h5 class=\"title\"><a href=\"index.php?action=show_constituencies&amp;state_id=34\" style=\"text-decoration: none ;color:black \">JAHANABAD </a></h5>, <h5 class=\"title\"><a href=\"index.php?action=show_constituencies&amp;state_id=38\" style=\"text-decoration: none ;color:black \">JAMUI </a></h5>, <h5 class=\"title\"><a href=\"index.php?action=show_constituencies&amp;state_id=31\" style=\"text-decoration: none ;color:black \">KAIMUR (BHABUA) </a></h5>, <h5 class=\"title\"><a href=\"index.php?action=show_constituencies&amp;state_id=10\" style=\"text-decoration: none ;color:black \">KATIHAR </a></h5>, <h5 class=\"title\"><a href=\"index.php?action=show_constituencies&amp;state_id=21\" style=\"text-decoration: none ;color:black \">KHAGARIA </a></h5>, <h5 class=\"title\"><a href=\"index.php?action=show_constituencies&amp;state_id=8\" style=\"text-decoration: none ;color:black \">KISHANGANJ </a></h5>, <h5 class=\"title\"><a href=\"index.php?action=show_constituencies&amp;state_id=25\" style=\"text-decoration: none ;color:black \">LAKHISARAI </a></h5>, <h5 class=\"title\"><a href=\"index.php?action=show_constituencies&amp;state_id=11\" style=\"text-decoration: none ;color:black \">MADHEPURA </a></h5>, <h5 class=\"title\"><a href=\"index.php?action=show_constituencies&amp;state_id=5\" style=\"text-decoration: none ;color:black \">MADHUBANI </a></h5>, <h5 class=\"title\"><a href=\"index.php?action=show_constituencies&amp;state_id=24\" style=\"text-decoration: none ;color:black \">MUNGER </a></h5>, <h5 class=\"title\"><a href=\"index.php?action=show_constituencies&amp;state_id=14\" style=\"text-decoration: none ;color:black \">MUZAFFARPUR </a></h5>, <h5 class=\"title\"><a href=\"index.php?action=show_constituencies&amp;state_id=27\" style=\"text-decoration: none ;color:black \">NALANDA </a></h5>, <h5 class=\"title\"><a href=\"index.php?action=show_constituencies&amp;state_id=37\" style=\"text-decoration: none ;color:black \">NAWADA </a></h5>, <h5 class=\"title\"><a href=\"index.php?action=show_constituencies&amp;state_id=1\" style=\"text-decoration: none ;color:black \">PASCHIM CHAMPARAN </a></h5>, <h5 class=\"title\"><a href=\"index.php?action=show_constituencies&amp;state_id=28\" style=\"text-decoration: none ;color:black \">PATNA </a></h5>, <h5 class=\"title\"><a href=\"index.php?action=show_constituencies&amp;state_id=9\" style=\"text-decoration: none ;color:black \">PURNIA </a></h5>, <h5 class=\"title\"><a href=\"index.php?action=show_constituencies&amp;state_id=2\" style=\"text-decoration: none ;color:black \">PURVI CHAMPARAN </a></h5>, <h5 class=\"title\"><a href=\"index.php?action=show_constituencies&amp;state_id=32\" style=\"text-decoration: none ;color:black \">ROHTAS </a></h5>, <h5 class=\"title\"><a href=\"index.php?action=show_constituencies&amp;state_id=12\" style=\"text-decoration: none ;color:black \">SAHARSA </a></h5>, <h5 class=\"title\"><a href=\"index.php?action=show_constituencies&amp;state_id=19\" style=\"text-decoration: none ;color:black \">SAMASTIPUR </a></h5>, <h5 class=\"title\"><a href=\"index.php?action=show_constituencies&amp;state_id=17\" style=\"text-decoration: none ;color:black \">SARAN </a></h5>, <h5 class=\"title\"><a href=\"index.php?action=show_constituencies&amp;state_id=26\" style=\"text-decoration: none ;color:black \">SHEIKHPURA </a></h5>, <h5 class=\"title\"><a href=\"index.php?action=show_constituencies&amp;state_id=3\" style=\"text-decoration: none ;color:black \">SHEOHAR </a></h5>, <h5 class=\"title\"><a href=\"index.php?action=show_constituencies&amp;state_id=4\" style=\"text-decoration: none ;color:black \">SITAMARHI </a></h5>, <h5 class=\"title\"><a href=\"index.php?action=show_constituencies&amp;state_id=16\" style=\"text-decoration: none ;color:black \">SIWAN </a></h5>, <h5 class=\"title\"><a href=\"index.php?action=show_constituencies&amp;state_id=6\" style=\"text-decoration: none ;color:black \">SUPAUL </a></h5>, <h5 class=\"title\"><a href=\"index.php?action=show_constituencies&amp;state_id=18\" style=\"text-decoration: none ;color:black \">VAISHALI </a></h5>]\n",
      "{'ARARIA': 'https://myneta.info/bihar2020/index.php?action=show_constituencies&state_id=7', 'ARWAL': 'https://myneta.info/bihar2020/index.php?action=show_constituencies&state_id=33', 'AURANGABAD': 'https://myneta.info/bihar2020/index.php?action=show_constituencies&state_id=35', 'BANKA': 'https://myneta.info/bihar2020/index.php?action=show_constituencies&state_id=23', 'BEGUSARAI': 'https://myneta.info/bihar2020/index.php?action=show_constituencies&state_id=20', 'BHAGALPUR': 'https://myneta.info/bihar2020/index.php?action=show_constituencies&state_id=22', 'BHOJPUR': 'https://myneta.info/bihar2020/index.php?action=show_constituencies&state_id=29', 'BUXAR': 'https://myneta.info/bihar2020/index.php?action=show_constituencies&state_id=30', 'DARBHANGA': 'https://myneta.info/bihar2020/index.php?action=show_constituencies&state_id=13', 'GAYA': 'https://myneta.info/bihar2020/index.php?action=show_constituencies&state_id=36', 'GOPALGANJ': 'https://myneta.info/bihar2020/index.php?action=show_constituencies&state_id=15', 'JAHANABAD': 'https://myneta.info/bihar2020/index.php?action=show_constituencies&state_id=34', 'JAMUI': 'https://myneta.info/bihar2020/index.php?action=show_constituencies&state_id=38', 'KAIMUR (BHABUA)': 'https://myneta.info/bihar2020/index.php?action=show_constituencies&state_id=31', 'KATIHAR': 'https://myneta.info/bihar2020/index.php?action=show_constituencies&state_id=10', 'KHAGARIA': 'https://myneta.info/bihar2020/index.php?action=show_constituencies&state_id=21', 'KISHANGANJ': 'https://myneta.info/bihar2020/index.php?action=show_constituencies&state_id=8', 'LAKHISARAI': 'https://myneta.info/bihar2020/index.php?action=show_constituencies&state_id=25', 'MADHEPURA': 'https://myneta.info/bihar2020/index.php?action=show_constituencies&state_id=11', 'MADHUBANI': 'https://myneta.info/bihar2020/index.php?action=show_constituencies&state_id=5', 'MUNGER': 'https://myneta.info/bihar2020/index.php?action=show_constituencies&state_id=24', 'MUZAFFARPUR': 'https://myneta.info/bihar2020/index.php?action=show_constituencies&state_id=14', 'NALANDA': 'https://myneta.info/bihar2020/index.php?action=show_constituencies&state_id=27', 'NAWADA': 'https://myneta.info/bihar2020/index.php?action=show_constituencies&state_id=37', 'PASCHIM CHAMPARAN': 'https://myneta.info/bihar2020/index.php?action=show_constituencies&state_id=1', 'PATNA': 'https://myneta.info/bihar2020/index.php?action=show_constituencies&state_id=28', 'PURNIA': 'https://myneta.info/bihar2020/index.php?action=show_constituencies&state_id=9', 'PURVI CHAMPARAN': 'https://myneta.info/bihar2020/index.php?action=show_constituencies&state_id=2', 'ROHTAS': 'https://myneta.info/bihar2020/index.php?action=show_constituencies&state_id=32', 'SAHARSA': 'https://myneta.info/bihar2020/index.php?action=show_constituencies&state_id=12', 'SAMASTIPUR': 'https://myneta.info/bihar2020/index.php?action=show_constituencies&state_id=19', 'SARAN': 'https://myneta.info/bihar2020/index.php?action=show_constituencies&state_id=17', 'SHEIKHPURA': 'https://myneta.info/bihar2020/index.php?action=show_constituencies&state_id=26', 'SHEOHAR': 'https://myneta.info/bihar2020/index.php?action=show_constituencies&state_id=3', 'SITAMARHI': 'https://myneta.info/bihar2020/index.php?action=show_constituencies&state_id=4', 'SIWAN': 'https://myneta.info/bihar2020/index.php?action=show_constituencies&state_id=16', 'SUPAUL': 'https://myneta.info/bihar2020/index.php?action=show_constituencies&state_id=6', 'VAISHALI': 'https://myneta.info/bihar2020/index.php?action=show_constituencies&state_id=18'}\n"
     ]
    }
   ],
   "source": [
    "url = \"https://myneta.info/bihar2020/\"\n",
    "DistrictDict = create_dist_dict(url)\n",
    "print(DistrictDict)"
   ]
  },
  {
   "cell_type": "code",
   "execution_count": 5,
   "metadata": {},
   "outputs": [],
   "source": [
    "def create_AC_dict(DistrictDict):\n",
    "    for district in DistrictDict:\n",
    "        url = DistrictDict[district]\n",
    "        soup = soup_url(url)\n",
    "        table = soup.find_all(\"table\")[-1]\n",
    "        ac_href = table.find_all('a', href = True)\n",
    "        raw_ac = []\n",
    "        raw_ac = str(ac_href)\n",
    "        raw_ac = raw_ac.split(', <') \n",
    "        new_ac = []\n",
    "        for ac in raw_ac: \n",
    "            ac = \"<\" + ac \n",
    "            new_ac.append(ac)\n",
    "        correct_ac = []\n",
    "        for a in new_ac:\n",
    "            if '><' not in a:\n",
    "                correct_ac.append(a)\n",
    "        acdict = {}\n",
    "        for a in correct_ac:\n",
    "            ac_link = a[a.find('href=\"')+6:a.find('\">')]\n",
    "            ac_link = ac_link.replace('&amp;' , '&')\n",
    "            ac_name = a[a.find('\">')+2:a.find('</a>')]\n",
    "            if ac_link[:4] == \"http\":\n",
    "                acdict[ac_name] = ac_link\n",
    "            else:\n",
    "                acdict[ac_name] = url[:url.find('index.php?')] + ac_link\n",
    "        DistrictDict[district] = acdict\n",
    "#         print(DistrictDict)\n",
    "    return DistrictDict"
   ]
  },
  {
   "cell_type": "code",
   "execution_count": null,
   "metadata": {},
   "outputs": [],
   "source": [
    "masterdict = create_AC_dict(DistrictDict)"
   ]
  },
  {
   "cell_type": "code",
   "execution_count": null,
   "metadata": {},
   "outputs": [],
   "source": [
    "def create_candidate_dict(masterdict):\n",
    "    for district in masterdict:\n",
    "        for ac in masterdict[district]:\n",
    "            tableData = []\n",
    "            url = masterdict[district][ac]\n",
    "            soup = soup_url(url)\n",
    "            # if soup.title.string.lower().find('delete') == -1:\n",
    "            if soup.find(\"table\",{\"id\":\"table1\"}) != None:\n",
    "                table = soup.find(\"table\",{\"id\":\"table1\"})\n",
    "                allRows = table.findAll('tr')\n",
    "                for row in allRows:   \n",
    "                    eachRow = []\n",
    "                    cells = row.findAll('td')\n",
    "                    for cell in cells:\n",
    "                        eachRow.append(cell.text.encode('utf-8').strip())\n",
    "                    tableData.append(eachRow)\n",
    "                tableData = [x for x in tableData if x != []]\n",
    "                CandidateCol = [x[0] for x in tableData]\n",
    "                PartyCol = [x[1] for x in tableData]\n",
    "                CrimesCol = [x[2] for x in tableData]\n",
    "                EducationCol = [x[3] for x in tableData]\n",
    "                AgeCol = [x[4] for x in tableData]\n",
    "                AssetsCol = [x[5] for x in tableData]\n",
    "                LiabilityCol = [x[6] for x in tableData]\n",
    "                canddict = {}\n",
    "                canddict = {\n",
    "                            \"Candidate Name\" : CandidateCol,\n",
    "                            \"Party\" : PartyCol,\n",
    "                            \"Criminal Cases\" : CrimesCol,\n",
    "                            \"Education\" : EducationCol,\n",
    "                            \"Age\" : AgeCol,\n",
    "                            \"Assets\" : AssetsCol,\n",
    "                            \"Liabilities\" : LiabilityCol}\n",
    "                masterdict[district][ac] = canddict\n",
    "                return masterdict\n",
    "                break\n",
    "    return masterdict"
   ]
  },
  {
   "cell_type": "code",
   "execution_count": null,
   "metadata": {},
   "outputs": [],
   "source": [
    "masterdict = create_candidate_dict(masterdict)"
   ]
  },
  {
   "cell_type": "code",
   "execution_count": null,
   "metadata": {},
   "outputs": [],
   "source": [
    "masterDF = pd.DataFrame()\n",
    "for district in masterdict:\n",
    "    for ac in masterdict[district]:\n",
    "        if type(masterdict[district][ac]) is dict:    #find lowest dictionary\n",
    "                candidateDF = pd.DataFrame(masterdict[district][ac])   #create temporary DF with lowest level dictionary\n",
    "                candidateDF['ac'] = str(ac)   #add AC, district, year, and state to each row within the DF\n",
    "                candidateDF['District'] = str(district)\n",
    "                masterDF = masterDF.append(candidateDF)   #append temporary DF to final DF\n",
    "\n",
    "#initial data cleaning \n",
    "#create a copy for cleaning, so the original data is still available unchanged\n",
    "themasterDF = masterDF.copy()\n",
    "\n",
    "\n",
    "#creating an Education Rank column as education is ordinal instead of categorical\n",
    "themasterDF[\"EduRank\"] = 0\n",
    "edurank = {\n",
    "            \"others\" : 0,\n",
    "            \"not given\": 0,\n",
    "            \"illiterate\": 1,\n",
    "            \"literate\": 2,\n",
    "            \"5th pass\": 3,\n",
    "            \"8th pass\": 4,\n",
    "            \"10th pass\": 5,\n",
    "            \"12th pass\": 6,\n",
    "            \"graduate\": 7,\n",
    "            \"graduate professional\": 8,\n",
    "            \"post graduate\": 9,\n",
    "            \"doctorate\": 10\n",
    "            }\n",
    "\n",
    "for a_val, b_val in edurank.iteritems():\n",
    "    themasterDF[\"EduRank\"][themasterDF.education==a_val] = b_val\n",
    "\n",
    "#renaming columns\n",
    "themasterDF.rename(columns={'candidate name':'cand_name', 'criminal cases':'criminal_cases'}, inplace=True)\n",
    "\n",
    "#creating a winner column & binary win column\n",
    "themasterDF[\"WinnerTF\"] = themasterDF.cand_name.str.contains('winner')\n",
    "themasterDF[\"Winner\"] = np.where(themasterDF[\"WinnerTF\"]==True,1,0)\n",
    "\n",
    "#creating a clean assets column\n",
    "themasterDF[\"Asset\"] = themasterDF[\"assets\"].map(lambda x:x.lstrip('rsÂ ').split(\" ~\")[0].replace(\",\", \"\"))\n",
    "\n",
    "#creating a clean liabilities column\n",
    "themasterDF[\"Liability\"] = themasterDF[\"liabilities\"].map(lambda x:x.lstrip('rsÂ ').split(\" ~\")[0].replace(\",\", \"\"))\n",
    "\n",
    "\n",
    "if themasterDF.cand_name.str.contains('winner'):\n",
    "    themasterDF[\"Winner\"] = 1\n",
    "else:\n",
    "    themasterDF[\"Winner\"] = 0\n",
    "        \n",
    "themasterDF.to_csv(\"masterdictdump.csv\")\n",
    "\n"
   ]
  },
  {
   "cell_type": "code",
   "execution_count": null,
   "metadata": {},
   "outputs": [],
   "source": []
  }
 ],
 "metadata": {
  "kernelspec": {
   "display_name": "Python 3",
   "language": "python",
   "name": "python3"
  },
  "language_info": {
   "codemirror_mode": {
    "name": "ipython",
    "version": 3
   },
   "file_extension": ".py",
   "mimetype": "text/x-python",
   "name": "python",
   "nbconvert_exporter": "python",
   "pygments_lexer": "ipython3",
   "version": "3.8.10"
  }
 },
 "nbformat": 4,
 "nbformat_minor": 2
}
